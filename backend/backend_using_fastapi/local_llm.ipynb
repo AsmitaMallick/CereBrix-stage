{
  "nbformat": 4,
  "nbformat_minor": 0,
  "metadata": {
    "colab": {
      "provenance": []
    },
    "kernelspec": {
      "name": "python3",
      "display_name": "Python 3"
    },
    "language_info": {
      "name": "python"
    }
  },
  "cells": [
    {
      "cell_type": "markdown",
      "source": [
        "#Install The Dependencies"
      ],
      "metadata": {
        "id": "UAeFkSlibpuj"
      }
    },
    {
      "cell_type": "code",
      "execution_count": 1,
      "metadata": {
        "colab": {
          "base_uri": "https://localhost:8080/"
        },
        "id": "7td0lQPdS2xU",
        "outputId": "7d87f4d1-6b3e-4e6b-f84f-211e8e399881"
      },
      "outputs": [
        {
          "output_type": "stream",
          "name": "stdout",
          "text": [
            "Collecting groq\n",
            "  Downloading groq-0.15.0-py3-none-any.whl.metadata (14 kB)\n",
            "Requirement already satisfied: anyio<5,>=3.5.0 in /usr/local/lib/python3.10/dist-packages (from groq) (3.7.1)\n",
            "Requirement already satisfied: distro<2,>=1.7.0 in /usr/local/lib/python3.10/dist-packages (from groq) (1.9.0)\n",
            "Requirement already satisfied: httpx<1,>=0.23.0 in /usr/local/lib/python3.10/dist-packages (from groq) (0.28.1)\n",
            "Requirement already satisfied: pydantic<3,>=1.9.0 in /usr/local/lib/python3.10/dist-packages (from groq) (2.10.4)\n",
            "Requirement already satisfied: sniffio in /usr/local/lib/python3.10/dist-packages (from groq) (1.3.1)\n",
            "Requirement already satisfied: typing-extensions<5,>=4.10 in /usr/local/lib/python3.10/dist-packages (from groq) (4.12.2)\n",
            "Requirement already satisfied: idna>=2.8 in /usr/local/lib/python3.10/dist-packages (from anyio<5,>=3.5.0->groq) (3.10)\n",
            "Requirement already satisfied: exceptiongroup in /usr/local/lib/python3.10/dist-packages (from anyio<5,>=3.5.0->groq) (1.2.2)\n",
            "Requirement already satisfied: certifi in /usr/local/lib/python3.10/dist-packages (from httpx<1,>=0.23.0->groq) (2024.12.14)\n",
            "Requirement already satisfied: httpcore==1.* in /usr/local/lib/python3.10/dist-packages (from httpx<1,>=0.23.0->groq) (1.0.7)\n",
            "Requirement already satisfied: h11<0.15,>=0.13 in /usr/local/lib/python3.10/dist-packages (from httpcore==1.*->httpx<1,>=0.23.0->groq) (0.14.0)\n",
            "Requirement already satisfied: annotated-types>=0.6.0 in /usr/local/lib/python3.10/dist-packages (from pydantic<3,>=1.9.0->groq) (0.7.0)\n",
            "Requirement already satisfied: pydantic-core==2.27.2 in /usr/local/lib/python3.10/dist-packages (from pydantic<3,>=1.9.0->groq) (2.27.2)\n",
            "Downloading groq-0.15.0-py3-none-any.whl (109 kB)\n",
            "\u001b[2K   \u001b[90m━━━━━━━━━━━━━━━━━━━━━━━━━━━━━━━━━━━━━━━━\u001b[0m \u001b[32m109.6/109.6 kB\u001b[0m \u001b[31m3.1 MB/s\u001b[0m eta \u001b[36m0:00:00\u001b[0m\n",
            "\u001b[?25hInstalling collected packages: groq\n",
            "Successfully installed groq-0.15.0\n"
          ]
        }
      ],
      "source": [
        "!pip install groq"
      ]
    },
    {
      "cell_type": "code",
      "source": [
        "import os\n",
        "from google.colab import userdata\n",
        "os.environ[\"GROQ_API_KEY\"]= userdata.get('GROQ_API_KEY')"
      ],
      "metadata": {
        "id": "2oWwUg9oVg0Y"
      },
      "execution_count": 2,
      "outputs": []
    },
    {
      "cell_type": "code",
      "source": [
        "from groq import Groq\n",
        "client = Groq()"
      ],
      "metadata": {
        "id": "cCSaDNzNrXl-"
      },
      "execution_count": 3,
      "outputs": []
    },
    {
      "source": [
        "!pip install python-dotenv"
      ],
      "cell_type": "code",
      "metadata": {
        "colab": {
          "base_uri": "https://localhost:8080/"
        },
        "id": "AHzf71X4QhHB",
        "outputId": "887b140c-4ee2-4129-d54d-08936474eeaa"
      },
      "execution_count": 4,
      "outputs": [
        {
          "output_type": "stream",
          "name": "stdout",
          "text": [
            "Collecting python-dotenv\n",
            "  Downloading python_dotenv-1.0.1-py3-none-any.whl.metadata (23 kB)\n",
            "Downloading python_dotenv-1.0.1-py3-none-any.whl (19 kB)\n",
            "Installing collected packages: python-dotenv\n",
            "Successfully installed python-dotenv-1.0.1\n"
          ]
        }
      ]
    },
    {
      "cell_type": "markdown",
      "source": [
        "#To Generate the Topic Points\n"
      ],
      "metadata": {
        "id": "gOR_u3fvbaI8"
      }
    },
    {
      "cell_type": "code",
      "source": [
        "from groq import Groq\n",
        "import os\n",
        "from dotenv import load_dotenv\n",
        "\n",
        "# Load environment variables from .env.local file\n",
        "load_dotenv('.env.local')\n",
        "\n",
        "# Initialize Groq client\n",
        "client = Groq(\n",
        "    api_key=os.getenv('GROQ_API_KEY')\n",
        ")\n",
        "\n",
        "class RevisionManager:\n",
        "    def __init__(self):\n",
        "        self._revision = None\n",
        "\n",
        "    def set_revision(self, data):\n",
        "        self._revision = data\n",
        "\n",
        "    def get_revision(self):\n",
        "        return self._revision\n",
        "\n",
        "# Initialize revision manager\n",
        "revision = RevisionManager()\n",
        "\n",
        "def generate_guide(selected_subject, selected_qualification, additional_context):\n",
        "    \"\"\"\n",
        "    Generate revision guide using Groq API\n",
        "    \"\"\"\n",
        "    try:\n",
        "        ai_response = client.chat.completions.create(\n",
        "            model=\"mixtral-8x7b-32768\",\n",
        "            messages=[\n",
        "                {\n",
        "                    \"role\": \"system\",\n",
        "                    \"content\": f\"Generate an array of guide sentences like formulas or ideas for the {selected_subject} subject for {selected_qualification}. Additional context: {additional_context}. Give it to me in form of array of points and it must contain 5-8 points. Only provide me array don't provide me any other informations.\"\n",
        "                }\n",
        "            ]\n",
        "        )\n",
        "\n",
        "        # Store the response in revision manager\n",
        "        revision.set_revision(ai_response.choices[0].message.content)\n",
        "\n",
        "        return {\n",
        "            \"message\": \"Revision data updated successfully\",\n",
        "            \"revision\": revision.get_revision()\n",
        "        }\n",
        "\n",
        "    except Exception as e:\n",
        "        print(f\"Error generating guide: {str(e)}\")\n",
        "        return {\"error\": \"Internal Server Error\"}\n",
        "\n",
        "def get_guide():\n",
        "    \"\"\"\n",
        "    Retrieve the stored revision guide\n",
        "    \"\"\"\n",
        "    return {\n",
        "        \"revision\": revision.get_revision()\n",
        "    }\n",
        "\n"
      ],
      "metadata": {
        "id": "w0VPsNqwQamD"
      },
      "execution_count": 5,
      "outputs": []
    },
    {
      "cell_type": "markdown",
      "source": [
        "#Enter the Input Values (e.g subject, qualifications, additional details)"
      ],
      "metadata": {
        "id": "ICwK0vrhbyCg"
      }
    },
    {
      "cell_type": "code",
      "source": [
        "if __name__ == \"__main__\":\n",
        "    subject = input(\"Enter the subject: \")\n",
        "    qualification = input(\"Enter the qualification: \")\n",
        "    context = input(\"Enter additional context: \")\n",
        "\n"
      ],
      "metadata": {
        "colab": {
          "base_uri": "https://localhost:8080/"
        },
        "id": "RLqkJ1usQapx",
        "outputId": "005dcd13-74bb-4cd8-cb4f-9582765b1c46"
      },
      "execution_count": 6,
      "outputs": [
        {
          "name": "stdout",
          "output_type": "stream",
          "text": [
            "Enter the subject: physics\n",
            "Enter the qualification: 10\n",
            "Enter additional context: thermodynamics \n"
          ]
        }
      ]
    },
    {
      "cell_type": "markdown",
      "source": [
        "#Get The Topics related to the Subjects"
      ],
      "metadata": {
        "id": "RWxecZy5cAdk"
      }
    },
    {
      "source": [
        "result = generate_guide(subject, qualification, context)\n",
        "print(\"\\nGenerated Guide:\")\n",
        "\n",
        "for i, line in enumerate(result['revision'].split('\\n'), start=1):\n",
        "    print(f\"{i}. {line}\")\n",
        "print(\"\\n\")\n",
        "\n",
        "stored_guide = get_guide()\n",
        "\n",
        "\n",
        "# for i, line in enumerate(stored_guide['revision'].split('\\n'), start=1):\n",
        "#     print(f\"{i}. {line}\")\n",
        "# print(\"\\n\")"
      ],
      "cell_type": "code",
      "metadata": {
        "colab": {
          "base_uri": "https://localhost:8080/"
        },
        "id": "WvLp8boPZZJN",
        "outputId": "a53c21ac-e227-4ad6-8565-b944fa96d2e9"
      },
      "execution_count": 7,
      "outputs": [
        {
          "output_type": "stream",
          "name": "stdout",
          "text": [
            "\n",
            "Generated Guide:\n",
            "1. [\n",
            "2. \"1. Thermodynamics deals with the relationship between heat, work, and energy in a system.\",\n",
            "3. \"2. The four laws of thermodynamics provide a fundamental framework for understanding the behavior of physical systems.\",\n",
            "4. \"3. The first law, also known as the law of conservation of energy, states that energy cannot be created or destroyed, only transformed.\",\n",
            "5. \"4. The second law introduces the concept of entropy, a measure of system's disorder or randomness that tends to increase over time.\",\n",
            "6. \"5. The third law defines the absolute zero temperature, a state where entropy reaches its minimum value.\",\n",
            "7. \"6. The fourth law establishes the relationship between the entropy of a system and its reversibility or irreversibility.\",\n",
            "8. \"7. Thermodynamic processes, such as adiabatic, isothermal, isobaric, and isochoric, are described by the changes in system's properties during heat transfer or work.\",\n",
            "9. \"8. Real-world applications include engines, refrigeration, and phase transitions in materials.\"\n",
            "10. ]\n",
            "\n",
            "\n"
          ]
        }
      ]
    },
    {
      "cell_type": "markdown",
      "source": [
        "#To Generate Quizs on the Topic"
      ],
      "metadata": {
        "id": "uR9c2NATbQeX"
      }
    },
    {
      "cell_type": "code",
      "source": [
        "import os\n",
        "import requests\n",
        "\n",
        "# Set up the Groq API base URL and API key\n",
        "GROQ_API_BASE_URL = \"https://api.groq.com/openai/v1/chat/completions\"\n",
        "API_KEY = os.environ.get(\"GROQ_API_KEY\")  # Ensure the API key is set in your environment\n",
        "\n",
        "def generate_quiz(topic, num_questions=5):\n",
        "    \"\"\"\n",
        "    Generate quiz questions using the mixtral-8x7b-32768 model via Groq API.\n",
        "\n",
        "    :param topic: The topic for which to generate quiz questions.\n",
        "    :param num_questions: Number of questions to generate.\n",
        "    :return: List of generated quiz questions.\n",
        "    \"\"\"\n",
        "    headers = {\n",
        "        \"Authorization\": f\"Bearer {API_KEY}\",\n",
        "        \"Content-Type\": \"application/json\"\n",
        "    }\n",
        "\n",
        "    # Prompt for the AI model\n",
        "    prompt = (\n",
        "        f\"Generate {num_questions} quiz questions on the topic: {topic}. \"\n",
        "        \"Each question should be concise and relevant to the topic.\"\n",
        "    )\n",
        "\n",
        "    payload = {\n",
        "        \"model\": \"llama-3.3-70b-versatile\",\n",
        "        \"messages\": [\n",
        "            {\"role\": \"system\", \"content\": \"You are a quiz question generator.\"},\n",
        "            {\"role\": \"user\", \"content\": prompt}\n",
        "        ],\n",
        "        \"temperature\": 0.7,\n",
        "        \"max_tokens\":1024,\n",
        "        \"top_p\": 1\n",
        "    }\n",
        "\n",
        "    try:\n",
        "        # Make the POST request to the Groq API\n",
        "        response = requests.post(GROQ_API_BASE_URL, headers=headers, json=payload)\n",
        "        response.raise_for_status()  # Raise an exception for HTTP errors\n",
        "\n",
        "        # Parse the response JSON\n",
        "        result = response.json()\n",
        "\n",
        "        # Extract generated quiz questions\n",
        "        generated_content = result[\"choices\"][0][\"message\"][\"content\"]\n",
        "        quiz_questions = [question.strip() for question in generated_content.split(\"\\n\") if question.strip()]\n",
        "\n",
        "        return quiz_questions\n",
        "\n",
        "    except requests.exceptions.RequestException as e:\n",
        "        print(f\"Error connecting to Groq API: {e}\")\n",
        "        return []\n",
        "    except KeyError as e:\n",
        "        print(f\"Error parsing response: {e}\")\n",
        "        return []\n",
        "\n",
        "def main():\n",
        "    print(\"Welcome to the Quiz Generator!\\n\")\n",
        "\n",
        "    # Take topic input from the user\n",
        "    topic = input(\"Enter the topic for the quiz: \").strip()\n",
        "    num_questions = int(input(\"How many quiz questions would you like to generate? (default is 5): \") or 5)\n",
        "\n",
        "    # Generate quiz questions\n",
        "    print(\"\\nGenerating quiz questions...\")\n",
        "    quiz_questions = generate_quiz(topic, num_questions)\n",
        "\n",
        "    if quiz_questions:\n",
        "        print(\"\\nGenerated Quiz Questions:\")\n",
        "        for i, question in enumerate(quiz_questions, start=1):\n",
        "            print(f\"{i}. {question}\")\n",
        "    else:\n",
        "        print(\"\\nFailed to generate quiz questions. Please try again later.\")\n",
        "\n",
        "if __name__ == \"__main__\":\n",
        "    main()\n"
      ],
      "metadata": {
        "colab": {
          "base_uri": "https://localhost:8080/"
        },
        "id": "4e0AOR6L5rPD",
        "outputId": "f85f426f-d4e0-441d-c281-0cda81d5e603"
      },
      "execution_count": 8,
      "outputs": [
        {
          "output_type": "stream",
          "name": "stdout",
          "text": [
            "Welcome to the Quiz Generator!\n",
            "\n",
            "Enter the topic for the quiz: The first law, also known as the law of conservation of energy, states that energy cannot be created or destroyed, only transformed.\n",
            "How many quiz questions would you like to generate? (default is 5): 4\n",
            "\n",
            "Generating quiz questions...\n",
            "\n",
            "Generated Quiz Questions:\n",
            "1. Here are 4 quiz questions on the topic:\n",
            "2. 1. What is the fundamental principle of the first law of energy?\n",
            "3. A) Energy can be created\n",
            "4. B) Energy cannot be created or destroyed\n",
            "5. C) Energy can only be destroyed\n",
            "6. D) Energy can only be created\n",
            "7. Answer: B) Energy cannot be created or destroyed\n",
            "8. 2. According to the law of conservation of energy, what happens to energy?\n",
            "9. A) It is lost over time\n",
            "10. B) It is gained over time\n",
            "11. C) It is transformed from one form to another\n",
            "12. D) It remains constant but never changes form\n",
            "13. Answer: C) It is transformed from one form to another\n",
            "14. 3. Which of the following is an example of energy transformation?\n",
            "15. A) Creating energy from nothing\n",
            "16. B) Destroying energy completely\n",
            "17. C) Converting electrical energy to mechanical energy\n",
            "18. D) Storing energy without any change\n",
            "19. Answer: C) Converting electrical energy to mechanical energy\n",
            "20. 4. What is the implication of the first law of energy for the universe as a whole?\n",
            "21. A) The total energy of the universe is constantly increasing\n",
            "22. B) The total energy of the universe is constantly decreasing\n",
            "23. C) The total energy of the universe remains constant\n",
            "24. D) The total energy of the universe is unpredictable\n",
            "25. Answer: C) The total energy of the universe remains constant\n"
          ]
        }
      ]
    }
  ]
}